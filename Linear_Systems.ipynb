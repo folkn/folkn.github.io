{
  "nbformat": 4,
  "nbformat_minor": 0,
  "metadata": {
    "colab": {
      "name": "Linear Systems.ipynb",
      "version": "0.3.2",
      "provenance": [],
      "collapsed_sections": [],
      "include_colab_link": true
    },
    "kernelspec": {
      "name": "python36",
      "display_name": "Python 3.6",
      "language": "python"
    }
  },
  "cells": [
    {
      "cell_type": "markdown",
      "metadata": {
        "id": "view-in-github",
        "colab_type": "text"
      },
      "source": [
        "<a href=\"https://colab.research.google.com/github/folkn/folkn.github.io/blob/master/Linear_Systems.ipynb\" target=\"_parent\"><img src=\"https://colab.research.google.com/assets/colab-badge.svg\" alt=\"Open In Colab\"/></a>"
      ]
    },
    {
      "metadata": {
        "id": "1uX7AXw1XmMK",
        "colab_type": "text"
      },
      "cell_type": "markdown",
      "source": [
        "references\n",
        "https://numericalmethodsece101.weebly.com/doolittlersquos-method.html\n",
        "https://numericmethod.weebly.com/uploads/2/5/0/8/25086597/lkm-8-e.pdf"
      ]
    },
    {
      "metadata": {
        "id": "2tqWuTsFXmML",
        "colab_type": "text"
      },
      "cell_type": "markdown",
      "source": [
        "We start by importing the necessary libraries, namely **numpy** and **scipy** for linear algebra functions. \n",
        "\n",
        "***Run Me First!***:"
      ]
    },
    {
      "metadata": {
        "trusted": true,
        "scrolled": true,
        "id": "yukPw-v8XmMN",
        "colab_type": "code",
        "colab": {}
      },
      "cell_type": "code",
      "source": [
        "import numpy as np #Import NumPy with the shortcut 'np'\n",
        "from scipy import linalg #Import Linear Algebra functions from SciPy\n",
        "np.set_printoptions(floatmode='maxprec_equal') #Set maximum Output precision"
      ],
      "execution_count": 0,
      "outputs": []
    },
    {
      "metadata": {
        "id": "6NvFK3wtXmMI",
        "colab_type": "text"
      },
      "cell_type": "markdown",
      "source": [
        "# SOLVING LINEAR SYSTEMS in PYTHON\n",
        "\n",
        "Assignment 1 for LE230 Numerical Methods\n",
        "\n",
        "**5910751485 Warapong Narongrit**\n",
        "\n",
        "**5910755627 Techin Chotpongwatana**"
      ]
    },
    {
      "metadata": {
        "trusted": true,
        "id": "Yk6uHOD6XmMS",
        "colab_type": "text"
      },
      "cell_type": "markdown",
      "source": [
        "We are interested in solving simultaneous linear equations.\n",
        "FIRST, we input the simultaneous equation in matrix form $Ax=b$ :\n",
        "\n",
        "$$\n",
        "\\begin{bmatrix}\n",
        "    A_{11}       & A_{12} & A_{13} & \\dots & A_{1n} \\\\\n",
        "    A_{21}       & A_{22} & A_{23} & \\dots & A_{2n} \\\\\n",
        "    A_{d1}       & A_{d2} & A_{d3} & \\dots & A_{dn}\n",
        "\\end{bmatrix} \n",
        "\\begin{bmatrix}\n",
        "     x_1 \\\\\n",
        "     \\dots \\\\\n",
        "     x_n \n",
        "\\end{bmatrix}\n",
        "= \\begin{bmatrix}\n",
        "    b_1 \\\\\n",
        "    \\dots \\\\\n",
        "    b_n\n",
        "\\end{bmatrix}\n",
        "$$\n",
        "\n",
        "Input the matrix to be solved here. $A$ as a square matrix, $B$ as a column vector. Make sure none of the diagonals are zero!\n"
      ]
    },
    {
      "metadata": {
        "trusted": true,
        "scrolled": true,
        "id": "qfCc0I22XmMT",
        "colab_type": "code",
        "outputId": "1eaf0451-3a33-4754-c189-b2dace989aa4",
        "colab": {
          "base_uri": "https://localhost:8080/",
          "height": 357
        }
      },
      "cell_type": "code",
      "source": [
        "#INPUT MATRIX TO BE SOLVED HERE# No Zero diagonals please - enter arrays with decimals please (-100. instead of -100)\n",
        "A_ = np.array([[1.,-0.25, -0.25, 0],\n",
        "              [-0.25,1.,0,-0.25],\n",
        "              [-0.25,0,1.,-0.25],\n",
        "              [0,-0.25,-0.25,1.]])\n",
        "\n",
        "b_ = np.array([[50.], \n",
        "              [50.], \n",
        "              [25.], \n",
        "              [25.]])\n",
        "\n",
        "Print_Values = False #Print value of each step? True or False\n",
        "\n",
        "print('Input:\\nA=\\n' + str(A_)); print('b=\\n' + str(b_))   #Prints matrices\n",
        "print('\\nOutput:\\neigenvalues= ' + str(np.linalg.eigvals(A_))) #Checks eigenvalues\n",
        "print ('\\nActual numpy Solution: X=\\n' + str(np.linalg.solve(A_,b_))) #Exact solution as calculated by numpy"
      ],
      "execution_count": 2,
      "outputs": [
        {
          "output_type": "stream",
          "text": [
            "Input:\n",
            "A=\n",
            "[[ 1.00 -0.25 -0.25  0.00]\n",
            " [-0.25  1.00  0.00 -0.25]\n",
            " [-0.25  0.00  1.00 -0.25]\n",
            " [ 0.00 -0.25 -0.25  1.00]]\n",
            "b=\n",
            "[[50.]\n",
            " [50.]\n",
            " [25.]\n",
            " [25.]]\n",
            "\n",
            "Output:\n",
            "eigenvalues= [0.5 1.0 1.5 1.0]\n",
            "\n",
            "Actual numpy Solution: X=\n",
            "[[87.5]\n",
            " [87.5]\n",
            " [62.5]\n",
            " [62.5]]\n"
          ],
          "name": "stdout"
        }
      ]
    },
    {
      "metadata": {
        "id": "Fjryd0r4XmMW",
        "colab_type": "text"
      },
      "cell_type": "markdown",
      "source": [
        "## Analytical Solution using Gauss Elimination"
      ]
    },
    {
      "metadata": {
        "id": "BRR5RJ49OtGu",
        "colab_type": "text"
      },
      "cell_type": "markdown",
      "source": [
        "The Gauss Elimination Method is a method of using *elementary row operations* until an upper triangle matrix is formed.\n",
        "\n",
        "The code uses partial pivoting, which is an algorithm of first making the first column all zero (except the first row), and then continuing to the other columns. Since we are not calculating this by hand, we do not have to understand any special techniques, but rather we could just use the standard long approach.\n"
      ]
    },
    {
      "metadata": {
        "id": "dfu2nyWNl2Ir",
        "colab_type": "code",
        "colab": {
          "base_uri": "https://localhost:8080/",
          "height": 102
        },
        "outputId": "4a873f87-7afa-4f3d-9190-9d74d7d55217"
      },
      "cell_type": "code",
      "source": [
        "def gauss(A, b):\n",
        "  \n",
        "  #Gauss Elim.\n",
        "  n = A.shape[0] #Number of equations/rows\n",
        "  for row in range(0, n-1): #For each row\n",
        "      for i in range(row+1, n): #For each column of the next row\n",
        "          factor = A[i,row] / A[row,row] #calculate the multiplier (ex. R2 <- R2 - (factor)*R1)\n",
        "          for j in range(row, n):\n",
        "              A[i,j] = A[i,j] - factor * A[row,j] #Perform elementary operation on A\n",
        "          b[i] = b[i] - factor * b[row] #Perform same elementary operation on B\n",
        "      if Print_Values is True:\n",
        "        print('\\nA =\\n' + str(A) + '\\nB=\\n' + str(b) )\n",
        "  #Back substitution\n",
        "  x = np.zeros((n,1)) #Generate solutions vector\n",
        "  x[n-1] = b[n-1] / A[n-1, n-1] #Solve last row first: a basic division \n",
        "  for row in range(n-2, -1, -1): #For all other rows, bottom up\n",
        "      sums = b[row] #store x values of last row here, and add to this as we consider each row\n",
        "      for j in range(row+1, n): #For each known column                       (ex. 2x + 3Y=5, if Y is known from previous)\n",
        "          sums -= A[row,j] * x[j] #Move known values to B side               (ex. 2x + 3(4)=5 --> 2x = 5 - 12 )\n",
        "      x[row] = sums / A[row,row]  #Divide by unknown coefficient to get sol  (ex.                  x = 7/2    )\n",
        "  return x\n",
        "  \n",
        "\n",
        "x = gauss(np.copy(A_),np.copy(b_))\n",
        "print ('X=\\n' +str(x) +'\\tANS')"
      ],
      "execution_count": 3,
      "outputs": [
        {
          "output_type": "stream",
          "text": [
            "X=\n",
            "[[87.5]\n",
            " [87.5]\n",
            " [62.5]\n",
            " [62.5]]\tANS\n"
          ],
          "name": "stdout"
        }
      ]
    },
    {
      "metadata": {
        "trusted": true,
        "scrolled": true,
        "id": "c5G7I58VXmMY",
        "colab_type": "text"
      },
      "cell_type": "markdown",
      "source": [
        "## Analytical Solution using LU Factorization "
      ]
    },
    {
      "metadata": {
        "trusted": true,
        "id": "jMePtQLZXmMZ",
        "colab_type": "text"
      },
      "cell_type": "markdown",
      "source": [
        "This method uses the idea that all matrices (except those with some diagonal elements being zero) can be factorized into products Lower and upper triangular matrices:\n",
        "\n",
        "$$A = LU$$ \n",
        "\n",
        "$$\n",
        "\\begin{bmatrix}\n",
        "    A_{11}       & A_{12} & A_{13}  \\\\\n",
        "    A_{21}       & A_{22} & A_{23}  \\\\\n",
        "    A_{31}       & A_{32} & A_{33} \n",
        "\\end{bmatrix} =\n",
        "\\begin{bmatrix}\n",
        "    l_{11}       & 0 & 0  \\\\\n",
        "    l_{21}       & l_{22} & 0  \\\\\n",
        "    l_{31}       & l_{32} & l_{33} \n",
        "\\end{bmatrix} \n",
        "\\begin{bmatrix}\n",
        "    u_{11}       & u_{12} & u_{13}  \\\\\n",
        "    0       & u_{22} & u_{23}  \\\\\n",
        "    0       & 0 & 0\n",
        "\\end{bmatrix}\n",
        "$$\n",
        "\n",
        "There is more than one way of factorizing, so three **LU Factorization** methods are used:\n",
        "1. **Doolittle** - all Diagonals of $L$ are $1$    ($l_{11} = l_{22} = l_{nn} = 1$)\n",
        "2. **Crout** - all Diagonals of $U$ are $1$     ($u_{11} = u_{22} = u_{nn} = 1$)\n",
        "3. **Cholesky** - $U = L^\\text{T}$ or equivalently $L=U^\\text{T}$ such that $A=LL^\\text{T}$ (*works only if A=positive definite(**positive eigenvalues**) and symmetric **($A=A^\\text{T}$)**\n",
        "---\n",
        "**The procedure to solving linear systems is:**\n",
        "1. LU-Factorize the coefficients matrix $A$ using one of the methods\n",
        "2. Let $LY = b$ where $Y$ is an intermediate variable matrix. Solve for $Y$\n",
        "3. Let $UX = Y$ then solve for the unknowns $X$ \n",
        "\n",
        "(This works because $AX=b, LUX=b, \\text{let }Y=UX, \\text{so }LY=b$)"
      ]
    },
    {
      "metadata": {
        "id": "ctIl6LOlXmMa",
        "colab_type": "text"
      },
      "cell_type": "markdown",
      "source": [
        "I first create functions for steps 2 and 3 since all methods will require these steps.\n",
        "\n",
        "***Run This First!***"
      ]
    },
    {
      "metadata": {
        "trusted": true,
        "id": "_dUz0AOkXmMc",
        "colab_type": "code",
        "colab": {}
      },
      "cell_type": "code",
      "source": [
        "def LY_B (L, B) : #Step 2\n",
        "    Y =  np.matmul((np.linalg.inv(L)), B) #Y= L^-1 * B\n",
        "    return Y\n",
        "\n",
        "def UX_Y (U, Y) : #Step 3\n",
        "    X = np.matmul(np.linalg.inv(U) , Y) #X=U^-1 * Y\n",
        "    return X"
      ],
      "execution_count": 0,
      "outputs": []
    },
    {
      "metadata": {
        "id": "OvBWfSYWXmMf",
        "colab_type": "text"
      },
      "cell_type": "markdown",
      "source": [
        "Now I will perform the three methods of factorization methods"
      ]
    },
    {
      "metadata": {
        "id": "Bgjr1476XmMg",
        "colab_type": "text"
      },
      "cell_type": "markdown",
      "source": [
        "### 1. Doolittle's Method https://www.codewithc.com/lu-decomposition-algorithm-flowchart/ https://vismor.com/documents/network_analysis/matrix_algorithms/S4.SS2.php ###\n",
        "\n",
        "In the code, we convert the $LU$ vector multiplication into a dot multiplcation problem for better scaling."
      ]
    },
    {
      "metadata": {
        "trusted": true,
        "scrolled": true,
        "id": "gHpHkDH9XmMh",
        "colab_type": "code",
        "outputId": "91b693ee-99dc-4773-aa4c-927811d27ea1",
        "colab": {
          "base_uri": "https://localhost:8080/",
          "height": 102
        }
      },
      "cell_type": "code",
      "source": [
        "#1. Doolittle Factorization https://stackoverflow.com/questions/48715594/why-is-my-profs-version-of-lu-decomposition-faster-than-mine-python-numpy\n",
        "def doolittle(A) : \n",
        "    N = np.size(A, 0)    # Number of Rows (Equations)\n",
        "    \n",
        "    # Create empty L U matrices with the dimensions of A\n",
        "    L = np.zeros_like(A)  \n",
        "    U = np.zeros_like(A)\n",
        "\n",
        "\n",
        "    for k in range(N):   #For each equation (row) k\n",
        "        #Determining Diagonal Elements\n",
        "        L[k, k] = 1      #Set the L diagonal to 1  (Doolittle Requirement)\n",
        "        U[k, k] = (A[k, k] - np.dot(L[k, :k], U[:k, k])) \n",
        "        #Determining Other Elements\n",
        "        for j in range(k+1, N):\n",
        "            U[k, j] = (A[k, j] - np.dot(L[k, :k], U[:k, j])) / L[k, k]\n",
        "        for i in range(k+1, N):\n",
        "            L[i, k] = (A[i, k] - np.dot(L[i, :k], U[:k, k])) / U[k, k]\n",
        "    return L, U\n",
        "    \n",
        "L, U = doolittle(A_);\n",
        "if Print_Values is True:\n",
        "  print ('L=\\n' +str(L)); print('U=\\n' + str(U))\n",
        "\n",
        "#Step 2, 3, ANS\n",
        "Y= LY_B(L,b_)\n",
        "X = UX_Y(U,Y)\n",
        "\n",
        "if Print_Values is True:\n",
        "  print (('LY=B\\nY=\\n' + str(Y) + 'UX=Y\\n')); \n",
        "print ('X=\\n' +str(X) +'\\tANS')\n"
      ],
      "execution_count": 5,
      "outputs": [
        {
          "output_type": "stream",
          "text": [
            "X=\n",
            "[[87.5]\n",
            " [87.5]\n",
            " [62.5]\n",
            " [62.5]]\tANS\n"
          ],
          "name": "stdout"
        }
      ]
    },
    {
      "metadata": {
        "id": "BQnreSeBI555",
        "colab_type": "text"
      },
      "cell_type": "markdown",
      "source": [
        "### 1. Doolittle's Method using SciPy"
      ]
    },
    {
      "metadata": {
        "trusted": true,
        "id": "0noOjoaUXmMp",
        "colab_type": "code",
        "outputId": "d8e49d4d-ee9c-4086-ea03-3c2600cfe50f",
        "colab": {
          "base_uri": "https://localhost:8080/",
          "height": 408
        }
      },
      "cell_type": "code",
      "source": [
        "print('Input:\\nA=\\n' + str(A_)); print('b=\\n' + str(b_))   #Prints matrices\n",
        "#Doolittle using SciPy's functinos\n",
        "def scipy_plu(A) :\n",
        "    L, U = linalg.lu_factor(A)\n",
        "    return L,U\n",
        "\n",
        "\n",
        " #Step 2, 3, ANS\n",
        "scipy_plu(A_)\n",
        "Y= LY_B(L,b_)\n",
        "X = UX_Y(U,Y)\n",
        "print ('LY=B\\nY=\\n' + str(Y)); print ('UX=Y\\nX=\\n' +str(X) +'\\tANS')"
      ],
      "execution_count": 6,
      "outputs": [
        {
          "output_type": "stream",
          "text": [
            "Input:\n",
            "A=\n",
            "[[ 1.00 -0.25 -0.25  0.00]\n",
            " [-0.25  1.00  0.00 -0.25]\n",
            " [-0.25  0.00  1.00 -0.25]\n",
            " [ 0.00 -0.25 -0.25  1.00]]\n",
            "b=\n",
            "[[50.]\n",
            " [50.]\n",
            " [25.]\n",
            " [25.]]\n",
            "LY=B\n",
            "Y=\n",
            "[[50.00000000]\n",
            " [62.50000000]\n",
            " [41.66666667]\n",
            " [53.57142857]]\n",
            "UX=Y\n",
            "X=\n",
            "[[87.5]\n",
            " [87.5]\n",
            " [62.5]\n",
            " [62.5]]\tANS\n"
          ],
          "name": "stdout"
        }
      ]
    },
    {
      "metadata": {
        "id": "UJY11sX-XmMt",
        "colab_type": "text"
      },
      "cell_type": "markdown",
      "source": [
        "### 2. Crout's Method"
      ]
    },
    {
      "metadata": {
        "trusted": true,
        "id": "rbKaJrcOXmMu",
        "colab_type": "code",
        "colab": {
          "base_uri": "https://localhost:8080/",
          "height": 102
        },
        "outputId": "219f781a-1043-4b22-a4b5-f8769fb4d8bc"
      },
      "cell_type": "code",
      "source": [
        "#2. Crout Factorization \n",
        "def crout(A) :\n",
        "    N = np.size(A, 0)    # Number of Rows (Equations)\n",
        "    \n",
        "    # Create empty L U matrices with the dimensions of A\n",
        "    L = np.zeros_like(A)  \n",
        "    U = np.zeros_like(A)\n",
        "\n",
        "\n",
        "    for k in range(N):   #For each equation (row) k\n",
        "        #Determining Diagonal Elements\n",
        "        U[k, k] = 1      #Set the U diagonal to 1  (Crout Requirement)\n",
        "        L[k, k] = (A[k, k] - np.dot(L[k, :k], U[:k, k])) \n",
        "        #Determining Other Elements\n",
        "        for j in range(k+1, N):\n",
        "            U[k, j] = (A[k, j] - np.dot(L[k, :k], U[:k, j])) / L[k, k]\n",
        "        for i in range(k+1, N):\n",
        "            L[i, k] = (A[i, k] - np.dot(L[i, :k], U[:k, k])) / U[k, k]\n",
        "    return L, U\n",
        "    \n",
        "L, U = crout(A_);\n",
        "if Print_Values is True:\n",
        "  print ('L=\\n' +str(L)); print('U=\\n' + str(U))\n",
        "\n",
        "#Step 2, 3, ANS\n",
        "Y= LY_B(L,b_)\n",
        "X = UX_Y(U,Y)\n",
        "if Print_Values is True:\n",
        "  print ('LY=B\\nY=\\n' + str(Y) + 'UX=Y\\n'); \n",
        "print ('X=\\n' +str(X) +'\\tANS')"
      ],
      "execution_count": 7,
      "outputs": [
        {
          "output_type": "stream",
          "text": [
            "X=\n",
            "[[87.5]\n",
            " [87.5]\n",
            " [62.5]\n",
            " [62.5]]\tANS\n"
          ],
          "name": "stdout"
        }
      ]
    },
    {
      "metadata": {
        "id": "EsKV9xM_XmMx",
        "colab_type": "text"
      },
      "cell_type": "markdown",
      "source": [
        "### 3. Cholesky's Method"
      ]
    },
    {
      "metadata": {
        "trusted": true,
        "id": "6fusl1i2XmMy",
        "colab_type": "code",
        "outputId": "d5289052-567b-49bf-d8d9-20eede8b84e0",
        "colab": {
          "base_uri": "https://localhost:8080/",
          "height": 102
        }
      },
      "cell_type": "code",
      "source": [
        "#3. Cholesky's Method\n",
        "def cholesky(A) :\n",
        "    L = np.linalg.cholesky(A) #wow!\n",
        "    U = L.T #Cholesky requirement U=transpose(L)\n",
        "    return L,U\n",
        "\n",
        "#Try the cholesky, and catch any errors\n",
        "try:\n",
        "    L,U = cholesky(A_)\n",
        "except Exception as err:\n",
        "    print (err)\n",
        "if Print_Values is True:\n",
        "  print ('L=\\n' +str(L)); print('U=\\n' + str(U))\n",
        "#Step 2, 3, ANS\n",
        "Y= LY_B(L,b_)\n",
        "X = UX_Y(U,Y)\n",
        "if Print_Values is True:\n",
        "  print ('LY=B\\nY=\\n' + str(Y) + 'UX=Y\\n');\n",
        "print ('X=\\n' +str(X) +'\\tANS')"
      ],
      "execution_count": 8,
      "outputs": [
        {
          "output_type": "stream",
          "text": [
            "X=\n",
            "[[87.5]\n",
            " [87.5]\n",
            " [62.5]\n",
            " [62.5]]\tANS\n"
          ],
          "name": "stdout"
        }
      ]
    },
    {
      "metadata": {
        "id": "LuSW72bHXmM3",
        "colab_type": "text"
      },
      "cell_type": "markdown",
      "source": [
        "## Numerical Solutions using Iterations"
      ]
    },
    {
      "metadata": {
        "id": "2q0cVfsNXmM5",
        "colab_type": "text"
      },
      "cell_type": "markdown",
      "source": [
        "This method uses repeated calculations to **approximate** the solutions. It is normally used for matrices with large diagonal entries and those with many zero coefficients.\n",
        "\n",
        "**Input your initial guess, and stopping conditions first:**"
      ]
    },
    {
      "metadata": {
        "id": "0yVRqt3ywUiO",
        "colab_type": "code",
        "colab": {}
      },
      "cell_type": "code",
      "source": [
        "###Please Input 'Guess' Here as a column vector###\n",
        "X_Guess = np.array([[100.],\n",
        "                    [100.],\n",
        "                    [100.],\n",
        "                    [100.]])\n",
        "\n",
        "Iterations = 100            # Stop calculation if either tolerance or iteration condition is met\n",
        "Tolerance = 0.000001 #Absolute Tolerance (epsilon)          Set to <=0 to ignore"
      ],
      "execution_count": 0,
      "outputs": []
    },
    {
      "metadata": {
        "id": "SvMpqiz4XmM5",
        "colab_type": "text"
      },
      "cell_type": "markdown",
      "source": [
        "### 1. Jacobi Iteration\n",
        "Assumes that the diagnoal elements are non-zero ($a_{nn}\\ne 0$)https://www3.nd.edu/~zxu2/acms40390F12/Lec-7.3.pdf https://www.kth.se/social/files/5885d039f2765429974418ce/Lab1.pdf\n",
        "https://gist.github.com/angellicacardozo/3a0891adfa38e2c4187612e57bf271d1\n",
        "\n",
        "\n",
        "\n",
        "For a system such as\n",
        "$$x + y + z = 1 \\\\2x+4y+8z=2 \\\\3x+12y+20z=3\\\\$$\n",
        "We try to isolate each variable in each equation as such:\n",
        "$$x=1-y-z(1)\\\\y=\\frac{2-2x-8z}{4}(2)\\\\z=\\frac{3-3x-12y}{20}(3)\n",
        "$$\n",
        "\n",
        "Now we come up with an *initial guess* of the solutions, $x^{(0)}$\n",
        "\n",
        "In our example, let's suppose $[x^{(0)}, y^{(0)}, z^{(0)}]=[0,0,0]$\n",
        "\n",
        "We substitute the initial guess into $(1),(2),(3)$, which will give us $x^{(1)}$ (our first iteration)\n",
        "\n",
        "We repeat this step until we are satisfied of our solutions.\n",
        "\n",
        "**In matrix form**, this is shown as\n",
        "\n",
        "$$A=\\begin{bmatrix}\n",
        "    1       & 1 & 1  \\\\\n",
        "    2       & 4 & 8  \\\\\n",
        "    3       & 12 & 20 \n",
        "\\end{bmatrix}\n",
        ", B=\n",
        "\\begin{bmatrix}\n",
        "    1      \\\\\n",
        "    2      \\\\\n",
        "    3     \n",
        "\\end{bmatrix}\n",
        "$$\n",
        "\n",
        "\n",
        "Then we attempt to create equations (1) (2) (3)  by separating the diagonals\n",
        "\n",
        "$$\n",
        "D=\\begin{bmatrix}\n",
        "    1      \\\\\n",
        "    4      \\\\\n",
        "    12     \n",
        "\\end{bmatrix} \\text{(Diagonal elements)}\n",
        "$$ \n",
        "\n",
        "$$\n",
        "R=\\begin{bmatrix}\n",
        "    1       & 1 & 1  \\\\\n",
        "    2       & 4 & 8  \\\\\n",
        "    3       & 12 & 20 \n",
        "\\end{bmatrix} -\n",
        "\\begin{bmatrix}\n",
        "    1       & 0& 0  \\\\\n",
        "    0       & 4 & 0 \\\\\n",
        "    0       & 0 & 20 \n",
        "\\end{bmatrix}\n",
        "=\\begin{bmatrix}\n",
        "    0       & 1 & 1  \\\\\n",
        "    2       & 0 & 8  \\\\\n",
        "    3       & 12 & 0 \n",
        "\\end{bmatrix}\n",
        "$$\n",
        "\n",
        "$$\n",
        "x^{(n)} = \\frac{(RX - B)}{D} \\text{  (elementwise division)}\n",
        "$$\n",
        "In code, the matrix multiplication RX is performed row-wise as a dot product problem to simplify code.\n",
        "\n",
        "The initial guess and iterations are placed in matrix $x$ and substituted as above.\n",
        "\n",
        "\n",
        "If the diagonals of $A$ are all $1$, the iteration can be written as $$x^{(n+1)}=B+(I-A)x^{(m)}$$. Otherwise, it is written as \n",
        "$$x_i^{(n)}=\\frac{1}{a_{ii}}[\\sum^{eq}_{j=1, j\\ne i}(-a_{ij}x^{(n)})+B]$$\n",
        "\n"
      ]
    },
    {
      "metadata": {
        "trusted": true,
        "id": "gemGKK0PXmM6",
        "colab_type": "code",
        "outputId": "09fcda42-1645-4990-c116-f2db09793bfd",
        "colab": {
          "base_uri": "https://localhost:8080/",
          "height": 238
        }
      },
      "cell_type": "code",
      "source": [
        "def jacobi(A, b, N, x, tol):  \n",
        "    print('Initial Guess X^(0)=\\n'+str(x.flatten()) + '\\nfor A=\\n' +str(A_) + '  \\nJacobi using ' +str(Iterations) + ' Iterations, Abs.Tol epsilon =' + str(Tolerance))\n",
        "    eq = np.size(A, 0)    # Number of Rows (Equations)\n",
        "    D = np.diag(A) #Obtain the diagonals as a row vector\n",
        "    R = A - np.diagflat(D) #Obtain matrix A without its diagonals\n",
        "                                                                                                                                                                    \n",
        "    for i in range(N): #Iterations\n",
        "        x_old = x #store previous iteration\n",
        "        x_max=0 #For error condition\n",
        "        \n",
        "        x = (b - np.matmul(R,x)) / D #new iteration\n",
        "        \n",
        "        #Error Calculation\n",
        "        if np.amax(abs(x-x_old)) > x_max: #Determines the maximum error from all variables compared to prev. iter\n",
        "          x_max = np.amax(abs(x-x_old)) #Find max error among unknowns X \n",
        "          \n",
        "        if Print_Values is True: #Print values of each Iteration\n",
        "          if i is 0:\n",
        "            print('\\n\\nIteration, [Iteration Values], \\t\\t\\t\\t Max Abs Error')  \n",
        "          print ('('+str(i+1)+ ')\\t' + str(x) + '\\t\\t' + str(x_max))\n",
        "       \n",
        "      #Checks stopping condition\n",
        "        if x_max < tol: #If maximum error is less than epsilon (stopping condition)\n",
        "          print('Tolerance condition met before number of iterations', i+1, x_max)\n",
        "          return x, i+1., x_max #Then stop calculation\n",
        "        \n",
        "        \n",
        "    print('Number of iterations condition met before tolerance condition', i, x_max)\n",
        "    return x, i, x_max\n",
        "   \n",
        "\n",
        "\n",
        "sol,iterN,x_max = jacobi(A_,b_.flatten(), Iterations, X_Guess.flatten() , Tolerance)\n",
        "print('\\n\\nX='+ str(sol) + '\\nwith a final epsilon of ' + str(x_max) + ' after ' + str(iterN) + ' iterations')"
      ],
      "execution_count": 10,
      "outputs": [
        {
          "output_type": "stream",
          "text": [
            "Initial Guess X^(0)=\n",
            "[100. 100. 100. 100.]\n",
            "for A=\n",
            "[[ 1.00 -0.25 -0.25  0.00]\n",
            " [-0.25  1.00  0.00 -0.25]\n",
            " [-0.25  0.00  1.00 -0.25]\n",
            " [ 0.00 -0.25 -0.25  1.00]]  \n",
            "Jacobi using 100 Iterations, Abs.Tol epsilon =1e-06\n",
            "('Tolerance condition met before number of iterations', 25, 7.450580596923828e-07)\n",
            "\n",
            "\n",
            "X=[87.50000075 87.50000075 62.50000075 62.50000075]\n",
            "with a final epsilon of 7.450580596923828e-07 after 25.0 iterations\n"
          ],
          "name": "stdout"
        }
      ]
    },
    {
      "metadata": {
        "id": "ZgZkUQsK5J6N",
        "colab_type": "text"
      },
      "cell_type": "markdown",
      "source": [
        "### 2. Gauss-Seidel Iteration\n",
        "https://austingwalters.com/gauss-seidel-method/\n",
        "http://milesbarnhart.com/portfolio/python/python-gauss-seidel-approximation-method/\n",
        "\n",
        "With the Jacobi method, we use the same iteration values $x^{(n)}$ until we are done with the iteration.\n",
        "\n",
        "With the Gauss-Seidel method, we use the newly calculated value $x^{(n+1)}_i$ right after it is known. For example, once we determined $x_1^{(n+1)}$ from the first equation, we use it to find $x_2^{(n+1)}$ in the second equation right away. \n",
        "\n",
        "This is similar to the previous method, but requires certain modifications to the equation.\n",
        "\n",
        "In matrix form, we wil have to separate the lower and upper triangles of matrix $A$ to account for this change. The matrix equation becomes[1] $$x^{(n+1)} = B - L x^{(n+1)} - Ux^{(n)}$$ \n",
        "\n",
        "Our code will rearrange this equation and output the values at the end of each iteration\n",
        "\n",
        "$$x^{(n+1)} + Lx^{(n+1)} = B - Ux^{(n)}$$\n",
        "\n",
        "$$x^{(n+1)}(I+L) = B-Ux^{(n)}$$\n",
        "\n",
        "($I + \\text{strictly lower matrix} = \\text{lower matrix with diagonals}$ )\n",
        "\n",
        "$$x^{(n+1)} = L^{-1}(B-Ux^{(n)})$$"
      ]
    },
    {
      "metadata": {
        "id": "ULqM_2mTE5oM",
        "colab_type": "code",
        "outputId": "286f5389-b339-42e8-f60e-5d0f90547f90",
        "colab": {
          "base_uri": "https://localhost:8080/",
          "height": 221
        }
      },
      "cell_type": "code",
      "source": [
        "def gauss_seidel(A, b, N, x, tol):\n",
        "    print('Initial Guess X^(0)= '+str(X.flatten()) + '\\nfor A=\\n' +str(A_) + '  \\nGauss-Seidel using ' +str(Iterations) + ' Iterations, Abs.Tol epsilon =' + str(Tolerance))\n",
        "\n",
        "    L = np.tril(A) #Lower triangle\n",
        "    U = np.triu(A, 1) #Upper triangle, 1 extracts strictly upper triangle\n",
        "    \n",
        "    for i in range(N):\n",
        "        x_old = x #store previous iteration\n",
        "        x_max=0 #For error condition\n",
        "        \n",
        "        x = np.matmul(np.linalg.inv(L), b - np.matmul(U, x)) #new Iteration\n",
        "        \n",
        "        #Error Calculation\n",
        "        if np.amax(abs(x-x_old)) > x_max: #Determines the maximum error from all variables compared to prev. iter\n",
        "          x_max = np.amax(abs(x-x_old)) #Find max error among unknowns X \n",
        "          \n",
        "        if Print_Values is True: #Print values of each Iteration\n",
        "          if i is 0:\n",
        "            print('\\n\\nIteration, [Iteration Values], \\t\\t\\t\\t Max Abs Error')  \n",
        "          print ('('+str(i+1)+ ')\\t' + str(x) + '\\t\\t' + str(x_max))\n",
        "       \n",
        "      #Checks stopping condition\n",
        "        if x_max < tol: #If maximum error is less than epsilon (stopping condition)\n",
        "          print('Tolerance condition met before number of iterations', i+1, x_max)\n",
        "          return x, i+1., x_max #Then stop calculation\n",
        "        \n",
        "        \n",
        "    print('Number of iterations condition met before tolerance condition', i, x_max)\n",
        "    return x, i, x_max\n",
        "\n",
        "\n",
        "\n",
        "sol,iterN,x_max = gauss_seidel(A_, b_.flatten(), Iterations, X_Guess.flatten(), Tolerance )\n",
        "print('\\n\\nX='+ str(sol) + '\\nwith a final epsilon of ' + str(x_max) + ' after ' + str(iterN) + ' iterations')"
      ],
      "execution_count": 11,
      "outputs": [
        {
          "output_type": "stream",
          "text": [
            "Initial Guess X^(0)= [87.5 87.5 62.5 62.5]\n",
            "for A=\n",
            "[[ 1.00 -0.25 -0.25  0.00]\n",
            " [-0.25  1.00  0.00 -0.25]\n",
            " [-0.25  0.00  1.00 -0.25]\n",
            " [ 0.00 -0.25 -0.25  1.00]]  \n",
            "Gauss-Seidel using 100 Iterations, Abs.Tol epsilon =1e-06\n",
            "('Tolerance condition met before number of iterations', 15, 2.7939677238464355e-07)\n",
            "\n",
            "\n",
            "X=[87.50000009 87.50000005 62.50000005 62.50000002]\n",
            "with a final epsilon of 2.7939677238464355e-07 after 15.0 iterations\n"
          ],
          "name": "stdout"
        }
      ]
    },
    {
      "metadata": {
        "id": "_nRK0XMN4Uyf",
        "colab_type": "text"
      },
      "cell_type": "markdown",
      "source": [
        "# Speed Comparisons\n",
        "The following function measures the time taken for all the calculations: Press run-all first before running this"
      ]
    },
    {
      "metadata": {
        "id": "PTBUp4n04clo",
        "colab_type": "code",
        "colab": {
          "base_uri": "https://localhost:8080/",
          "height": 153
        },
        "outputId": "45a308de-791e-4ea5-b709-f3455f7f3b37"
      },
      "cell_type": "code",
      "source": [
        "from scipy.stats import rankdata #Import ranking method from scipy\n",
        "import time, sys, os #Import timer, python interpreter controls, OS controls (command line)\n",
        "\n",
        "class suppressPrint: #Supress printoutput\n",
        "    def __enter__(self): #Upon entering the class, suppress console output\n",
        "        self._original_stdout = sys.stdout\n",
        "        sys.stdout = open(os.devnull, 'w')\n",
        "    def __exit__(self, exc_type, exc_val, exc_tb): #Upon exiting class, enable console output\n",
        "        sys.stdout.close()\n",
        "        sys.stdout = self._original_stdout \n",
        "        \n",
        "with suppressPrint(): #Using suppress print class\n",
        "  tictoc = np.zeros(7) #Create np array to store time\n",
        "  iters = ['','','','','',0,0] #Number of iterations\n",
        "  names = [' Gauss Elimination','      LU-Doolittle','LU-Doolittle-SciPy', '          LU-Crout',\n",
        "           '       LU-Cholesky', '       Iter-Jacobi',' Iter-Gauss-Seidel']\n",
        "  \n",
        "  t = time.time()\n",
        "  gauss(np.copy(A_),np.copy(b_)) #Gauss Elim\n",
        "  tictoc[0] = time.time() - t\n",
        "\n",
        "  t= time.time()\n",
        "  doolittle(A_); #Doolittle\n",
        "  LY_B(L,b_)\n",
        "  UX_Y(U,Y)\n",
        "  tictoc[1] = time.time() - t\n",
        "\n",
        "  t= time.time()\n",
        "  scipy_plu(A_) #Doolittle SciPy\n",
        "  LY_B(L,b_)\n",
        "  UX_Y(U,Y)\n",
        "  tictoc[2] = time.time() - t\n",
        "\n",
        "  t= time.time()\n",
        "  crout(A_); #Crout\n",
        "  LY_B(L,b_)\n",
        "  UX_Y(U,Y)\n",
        "  tictoc[3] = time.time() - t\n",
        "\n",
        "  t= time.time()\n",
        "  try:\n",
        "      cholesky(A_) #Cholesky\n",
        "  except Exception as err:\n",
        "      pass\n",
        "  LY_B(L,b_)\n",
        "  UX_Y(U,Y)\n",
        "  tictoc[4] = time.time() - t\n",
        "\n",
        "\n",
        "  t= time.time()\n",
        "  sol,iters[5],x_max = jacobi(A_,b_.flatten(), Iterations, X_Guess.flatten() , Tolerance) #Jacobi\n",
        "  tictoc[5] = time.time() - t\n",
        "\n",
        "  t= time.time()\n",
        "  sol,iters[6],x_max = gauss_seidel(A_, b_.flatten(), Iterations, X_Guess.flatten(), Tolerance ) #Gauss Seiel\n",
        "  tictoc[6] = time.time() - t\n",
        "  \n",
        "tictocrank = rankdata(tictoc) #Rank time from fastest to slowest\n",
        "print(\"'      Method     ' , Rank,  Time (ms)     ,   No. Iterations\")\n",
        "for i in range(len(tictoc)):\n",
        "  print(names[i], int(tictocrank[i]), tictoc[i]*1000, iters[i])"
      ],
      "execution_count": 12,
      "outputs": [
        {
          "output_type": "stream",
          "text": [
            "'      Method     ' , Rank,  Time (ms)     ,   No. Iterations\n",
            "(' Gauss Elimination', 4, 0.19788742065429688, '')\n",
            "('      LU-Doolittle', 5, 0.3151893615722656, '')\n",
            "('LU-Doolittle-SciPy', 2, 0.11992454528808594, '')\n",
            "('          LU-Crout', 3, 0.15020370483398438, '')\n",
            "('       LU-Cholesky', 1, 0.04887580871582031, '')\n",
            "('       Iter-Jacobi', 7, 1.5561580657958984, 25.0)\n",
            "(' Iter-Gauss-Seidel', 6, 1.3570785522460938, 15.0)\n"
          ],
          "name": "stdout"
        }
      ]
    },
    {
      "metadata": {
        "id": "TVkqZvyaJtqA",
        "colab_type": "text"
      },
      "cell_type": "markdown",
      "source": [
        "# References\n",
        "[1] E. Kreyszic. \"Numerical Linear Algebra\". *Advanced Engineering Analysis* pp.845-863. 9e\n",
        "[2] https://learnche.org/3E4/Assignment_2_-_2010_-_Solution/Bonus_question \n"
      ]
    }
  ]
}